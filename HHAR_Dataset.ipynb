{
  "nbformat": 4,
  "nbformat_minor": 0,
  "metadata": {
    "colab": {
      "provenance": [],
      "authorship_tag": "ABX9TyPd8St6UKm20WsSfDdr3kMn",
      "include_colab_link": true
    },
    "kernelspec": {
      "name": "python3",
      "display_name": "Python 3"
    },
    "language_info": {
      "name": "python"
    }
  },
  "cells": [
    {
      "cell_type": "markdown",
      "metadata": {
        "id": "view-in-github",
        "colab_type": "text"
      },
      "source": [
        "<a href=\"https://colab.research.google.com/github/jamesduol/interpretable-ml-book/blob/master/HHAR_Dataset.ipynb\" target=\"_parent\"><img src=\"https://colab.research.google.com/assets/colab-badge.svg\" alt=\"Open In Colab\"/></a>"
      ]
    },
    {
      "cell_type": "code",
      "execution_count": 1,
      "metadata": {
        "id": "r4sIpyVH9MQo"
      },
      "outputs": [],
      "source": [
        "import pandas as pd\n",
        "import glob\n",
        "import numpy as np\n",
        "import matplotlib.pyplot as plt # import the matplotlib library\n",
        "import os\n",
        "\n",
        "from scipy import stats  # Add this import statement\n",
        "import tensorflow as tf\n",
        "import seaborn as sns\n",
        "\n",
        "from sklearn.model_selection import LeaveOneGroupOut\n",
        "from sklearn.metrics import accuracy_score, classification_report\n",
        "from sklearn.ensemble import RandomForestClassifier\n",
        "from sklearn.preprocessing import StandardScaler\n",
        "from tensorflow.keras.models import Sequential\n",
        "from tensorflow.keras.layers import Conv1D, LSTM, Dense, Flatten\n",
        "from tensorflow.keras.utils import to_categorical\n",
        "import pickle\n",
        "import matplotlib.pyplot as plt\n",
        "\n",
        "from pylab import rcParams\n",
        "from sklearn import metrics\n",
        "from sklearn.model_selection import train_test_split\n",
        "\n",
        "%matplotlib inline\n",
        "sns.set(style='whitegrid', palette='muted', font_scale=1.5)\n",
        "rcParams['figure.figsize'] = 14, 8\n",
        "RANDOM_SEED = 42\n",
        "plt.rc('text', usetex=True)\n",
        "plt.rc('font', family='serif')\n",
        "plt.rcParams['text.usetex'] = False"
      ]
    },
    {
      "cell_type": "code",
      "source": [
        "!wget https://archive.ics.uci.edu/static/public/344/heterogeneity+activity+recognition.zip"
      ],
      "metadata": {
        "colab": {
          "base_uri": "https://localhost:8080/"
        },
        "id": "iiqlsk_39eGo",
        "outputId": "623275a3-5df2-4a4c-e8e0-a010ad8e189b"
      },
      "execution_count": 8,
      "outputs": [
        {
          "output_type": "stream",
          "name": "stdout",
          "text": [
            "--2024-09-07 10:13:11--  https://archive.ics.uci.edu/static/public/344/heterogeneity+activity+recognition.zip\n",
            "Resolving archive.ics.uci.edu (archive.ics.uci.edu)... 128.195.10.252\n",
            "Connecting to archive.ics.uci.edu (archive.ics.uci.edu)|128.195.10.252|:443... connected.\n",
            "HTTP request sent, awaiting response... 200 OK\n",
            "Length: unspecified\n",
            "Saving to: ‘heterogeneity+activity+recognition.zip’\n",
            "\n",
            "heterogeneity+activ     [             <=>    ] 784.01M  26.7MB/s    in 33s     \n",
            "\n",
            "2024-09-07 10:13:44 (23.8 MB/s) - ‘heterogeneity+activity+recognition.zip’ saved [822098071]\n",
            "\n"
          ]
        }
      ]
    },
    {
      "cell_type": "code",
      "source": [
        "%%capture\n",
        "!unzip heterogeneity+activity+recognition.zip -O hhar_exp.zip\n",
        "!unzip hhar_exp.zip"
      ],
      "metadata": {
        "id": "jKRAF9xY9gtg"
      },
      "execution_count": 9,
      "outputs": []
    },
    {
      "cell_type": "code",
      "source": [
        "!unzip -l heterogeneity+activity+recognition.zip"
      ],
      "metadata": {
        "colab": {
          "base_uri": "https://localhost:8080/"
        },
        "id": "VnI2Zg9E9jCe",
        "outputId": "90980a8c-dce0-4ac6-e546-3ab79e7c6014"
      },
      "execution_count": 11,
      "outputs": [
        {
          "output_type": "stream",
          "name": "stdout",
          "text": [
            "Archive:  heterogeneity+activity+recognition.zip\n",
            "  Length      Date    Time    Name\n",
            "---------  ---------- -----   ----\n",
            "777127275  2023-05-22 15:21   Activity recognition exp.zip\n",
            " 44970540  2023-05-22 15:21   Still exp.zip\n",
            "---------                     -------\n",
            "822097815                     2 files\n"
          ]
        }
      ]
    },
    {
      "cell_type": "code",
      "source": [
        "!unzip 'heterogeneity+activity+recognition.zip'"
      ],
      "metadata": {
        "colab": {
          "base_uri": "https://localhost:8080/"
        },
        "id": "T1hl32yy-7_s",
        "outputId": "d01fa5e3-e399-44ab-a400-d949935e0f10"
      },
      "execution_count": 12,
      "outputs": [
        {
          "output_type": "stream",
          "name": "stdout",
          "text": [
            "Archive:  heterogeneity+activity+recognition.zip\n",
            " extracting: Activity recognition exp.zip  \n",
            " extracting: Still exp.zip           \n"
          ]
        }
      ]
    },
    {
      "cell_type": "code",
      "source": [
        "!unzip 'Activity recognition exp.zip'"
      ],
      "metadata": {
        "colab": {
          "base_uri": "https://localhost:8080/"
        },
        "id": "2OPu0ynk9jyR",
        "outputId": "e67541f2-a981-4082-aff4-50474ce678e9"
      },
      "execution_count": 13,
      "outputs": [
        {
          "output_type": "stream",
          "name": "stdout",
          "text": [
            "Archive:  Activity recognition exp.zip\n",
            "   creating: Activity recognition exp/\n",
            "  inflating: Activity recognition exp/.DS_Store  \n",
            "   creating: __MACOSX/\n",
            "   creating: __MACOSX/Activity recognition exp/\n",
            "  inflating: __MACOSX/Activity recognition exp/._.DS_Store  \n",
            "  inflating: Activity recognition exp/Phones_accelerometer.csv  \n",
            "  inflating: Activity recognition exp/Phones_gyroscope.csv  \n",
            "  inflating: Activity recognition exp/readme.txt  \n",
            "  inflating: __MACOSX/Activity recognition exp/._readme.txt  \n",
            "  inflating: Activity recognition exp/Watch_accelerometer.csv  \n",
            "  inflating: Activity recognition exp/Watch_gyroscope.csv  \n"
          ]
        }
      ]
    },
    {
      "cell_type": "code",
      "source": [
        "# Read each CSV file into a separate DataFrame\n",
        "df1 = pd.read_csv('Activity recognition exp/Phones_accelerometer.csv')\n",
        "df2 = pd.read_csv('Activity recognition exp/Phones_gyroscope.csv')\n",
        "df3 = pd.read_csv('Activity recognition exp/Watch_accelerometer.csv')\n",
        "df4 = pd.read_csv('Activity recognition exp/Watch_gyroscope.csv')\n",
        "\n",
        "# Concatenate the DataFrames\n",
        "df = pd.concat([df1, df2, df3, df4], axis=0) # Concatenate DataFrames vertically\n",
        "\n",
        "df.head()"
      ],
      "metadata": {
        "colab": {
          "base_uri": "https://localhost:8080/",
          "height": 206
        },
        "id": "Tne4WlDw9oBM",
        "outputId": "eb877b20-c0e8-4658-a50b-474c3c036ea3"
      },
      "execution_count": 2,
      "outputs": [
        {
          "output_type": "execute_result",
          "data": {
            "text/plain": [
              "   Index   Arrival_Time        Creation_Time         x         y         z  \\\n",
              "0      0  1424696633908  1424696631913248572 -5.958191  0.688065  8.135345   \n",
              "1      1  1424696633909  1424696631918283972 -5.952240  0.670212  8.136536   \n",
              "2      2  1424696633918  1424696631923288855 -5.995087  0.653549  8.204376   \n",
              "3      3  1424696633919  1424696631928385290 -5.942718  0.676163  8.128204   \n",
              "4      4  1424696633929  1424696631933420691 -5.991516  0.641647  8.135345   \n",
              "\n",
              "  User   Model    Device     gt  \n",
              "0    a  nexus4  nexus4_1  stand  \n",
              "1    a  nexus4  nexus4_1  stand  \n",
              "2    a  nexus4  nexus4_1  stand  \n",
              "3    a  nexus4  nexus4_1  stand  \n",
              "4    a  nexus4  nexus4_1  stand  "
            ],
            "text/html": [
              "\n",
              "  <div id=\"df-b0b6e65d-3ae1-4e66-9cd2-57e389b95234\" class=\"colab-df-container\">\n",
              "    <div>\n",
              "<style scoped>\n",
              "    .dataframe tbody tr th:only-of-type {\n",
              "        vertical-align: middle;\n",
              "    }\n",
              "\n",
              "    .dataframe tbody tr th {\n",
              "        vertical-align: top;\n",
              "    }\n",
              "\n",
              "    .dataframe thead th {\n",
              "        text-align: right;\n",
              "    }\n",
              "</style>\n",
              "<table border=\"1\" class=\"dataframe\">\n",
              "  <thead>\n",
              "    <tr style=\"text-align: right;\">\n",
              "      <th></th>\n",
              "      <th>Index</th>\n",
              "      <th>Arrival_Time</th>\n",
              "      <th>Creation_Time</th>\n",
              "      <th>x</th>\n",
              "      <th>y</th>\n",
              "      <th>z</th>\n",
              "      <th>User</th>\n",
              "      <th>Model</th>\n",
              "      <th>Device</th>\n",
              "      <th>gt</th>\n",
              "    </tr>\n",
              "  </thead>\n",
              "  <tbody>\n",
              "    <tr>\n",
              "      <th>0</th>\n",
              "      <td>0</td>\n",
              "      <td>1424696633908</td>\n",
              "      <td>1424696631913248572</td>\n",
              "      <td>-5.958191</td>\n",
              "      <td>0.688065</td>\n",
              "      <td>8.135345</td>\n",
              "      <td>a</td>\n",
              "      <td>nexus4</td>\n",
              "      <td>nexus4_1</td>\n",
              "      <td>stand</td>\n",
              "    </tr>\n",
              "    <tr>\n",
              "      <th>1</th>\n",
              "      <td>1</td>\n",
              "      <td>1424696633909</td>\n",
              "      <td>1424696631918283972</td>\n",
              "      <td>-5.952240</td>\n",
              "      <td>0.670212</td>\n",
              "      <td>8.136536</td>\n",
              "      <td>a</td>\n",
              "      <td>nexus4</td>\n",
              "      <td>nexus4_1</td>\n",
              "      <td>stand</td>\n",
              "    </tr>\n",
              "    <tr>\n",
              "      <th>2</th>\n",
              "      <td>2</td>\n",
              "      <td>1424696633918</td>\n",
              "      <td>1424696631923288855</td>\n",
              "      <td>-5.995087</td>\n",
              "      <td>0.653549</td>\n",
              "      <td>8.204376</td>\n",
              "      <td>a</td>\n",
              "      <td>nexus4</td>\n",
              "      <td>nexus4_1</td>\n",
              "      <td>stand</td>\n",
              "    </tr>\n",
              "    <tr>\n",
              "      <th>3</th>\n",
              "      <td>3</td>\n",
              "      <td>1424696633919</td>\n",
              "      <td>1424696631928385290</td>\n",
              "      <td>-5.942718</td>\n",
              "      <td>0.676163</td>\n",
              "      <td>8.128204</td>\n",
              "      <td>a</td>\n",
              "      <td>nexus4</td>\n",
              "      <td>nexus4_1</td>\n",
              "      <td>stand</td>\n",
              "    </tr>\n",
              "    <tr>\n",
              "      <th>4</th>\n",
              "      <td>4</td>\n",
              "      <td>1424696633929</td>\n",
              "      <td>1424696631933420691</td>\n",
              "      <td>-5.991516</td>\n",
              "      <td>0.641647</td>\n",
              "      <td>8.135345</td>\n",
              "      <td>a</td>\n",
              "      <td>nexus4</td>\n",
              "      <td>nexus4_1</td>\n",
              "      <td>stand</td>\n",
              "    </tr>\n",
              "  </tbody>\n",
              "</table>\n",
              "</div>\n",
              "    <div class=\"colab-df-buttons\">\n",
              "\n",
              "  <div class=\"colab-df-container\">\n",
              "    <button class=\"colab-df-convert\" onclick=\"convertToInteractive('df-b0b6e65d-3ae1-4e66-9cd2-57e389b95234')\"\n",
              "            title=\"Convert this dataframe to an interactive table.\"\n",
              "            style=\"display:none;\">\n",
              "\n",
              "  <svg xmlns=\"http://www.w3.org/2000/svg\" height=\"24px\" viewBox=\"0 -960 960 960\">\n",
              "    <path d=\"M120-120v-720h720v720H120Zm60-500h600v-160H180v160Zm220 220h160v-160H400v160Zm0 220h160v-160H400v160ZM180-400h160v-160H180v160Zm440 0h160v-160H620v160ZM180-180h160v-160H180v160Zm440 0h160v-160H620v160Z\"/>\n",
              "  </svg>\n",
              "    </button>\n",
              "\n",
              "  <style>\n",
              "    .colab-df-container {\n",
              "      display:flex;\n",
              "      gap: 12px;\n",
              "    }\n",
              "\n",
              "    .colab-df-convert {\n",
              "      background-color: #E8F0FE;\n",
              "      border: none;\n",
              "      border-radius: 50%;\n",
              "      cursor: pointer;\n",
              "      display: none;\n",
              "      fill: #1967D2;\n",
              "      height: 32px;\n",
              "      padding: 0 0 0 0;\n",
              "      width: 32px;\n",
              "    }\n",
              "\n",
              "    .colab-df-convert:hover {\n",
              "      background-color: #E2EBFA;\n",
              "      box-shadow: 0px 1px 2px rgba(60, 64, 67, 0.3), 0px 1px 3px 1px rgba(60, 64, 67, 0.15);\n",
              "      fill: #174EA6;\n",
              "    }\n",
              "\n",
              "    .colab-df-buttons div {\n",
              "      margin-bottom: 4px;\n",
              "    }\n",
              "\n",
              "    [theme=dark] .colab-df-convert {\n",
              "      background-color: #3B4455;\n",
              "      fill: #D2E3FC;\n",
              "    }\n",
              "\n",
              "    [theme=dark] .colab-df-convert:hover {\n",
              "      background-color: #434B5C;\n",
              "      box-shadow: 0px 1px 3px 1px rgba(0, 0, 0, 0.15);\n",
              "      filter: drop-shadow(0px 1px 2px rgba(0, 0, 0, 0.3));\n",
              "      fill: #FFFFFF;\n",
              "    }\n",
              "  </style>\n",
              "\n",
              "    <script>\n",
              "      const buttonEl =\n",
              "        document.querySelector('#df-b0b6e65d-3ae1-4e66-9cd2-57e389b95234 button.colab-df-convert');\n",
              "      buttonEl.style.display =\n",
              "        google.colab.kernel.accessAllowed ? 'block' : 'none';\n",
              "\n",
              "      async function convertToInteractive(key) {\n",
              "        const element = document.querySelector('#df-b0b6e65d-3ae1-4e66-9cd2-57e389b95234');\n",
              "        const dataTable =\n",
              "          await google.colab.kernel.invokeFunction('convertToInteractive',\n",
              "                                                    [key], {});\n",
              "        if (!dataTable) return;\n",
              "\n",
              "        const docLinkHtml = 'Like what you see? Visit the ' +\n",
              "          '<a target=\"_blank\" href=https://colab.research.google.com/notebooks/data_table.ipynb>data table notebook</a>'\n",
              "          + ' to learn more about interactive tables.';\n",
              "        element.innerHTML = '';\n",
              "        dataTable['output_type'] = 'display_data';\n",
              "        await google.colab.output.renderOutput(dataTable, element);\n",
              "        const docLink = document.createElement('div');\n",
              "        docLink.innerHTML = docLinkHtml;\n",
              "        element.appendChild(docLink);\n",
              "      }\n",
              "    </script>\n",
              "  </div>\n",
              "\n",
              "\n",
              "<div id=\"df-44b5b3e9-2fe2-4694-bcd2-47c0c9d9565d\">\n",
              "  <button class=\"colab-df-quickchart\" onclick=\"quickchart('df-44b5b3e9-2fe2-4694-bcd2-47c0c9d9565d')\"\n",
              "            title=\"Suggest charts\"\n",
              "            style=\"display:none;\">\n",
              "\n",
              "<svg xmlns=\"http://www.w3.org/2000/svg\" height=\"24px\"viewBox=\"0 0 24 24\"\n",
              "     width=\"24px\">\n",
              "    <g>\n",
              "        <path d=\"M19 3H5c-1.1 0-2 .9-2 2v14c0 1.1.9 2 2 2h14c1.1 0 2-.9 2-2V5c0-1.1-.9-2-2-2zM9 17H7v-7h2v7zm4 0h-2V7h2v10zm4 0h-2v-4h2v4z\"/>\n",
              "    </g>\n",
              "</svg>\n",
              "  </button>\n",
              "\n",
              "<style>\n",
              "  .colab-df-quickchart {\n",
              "      --bg-color: #E8F0FE;\n",
              "      --fill-color: #1967D2;\n",
              "      --hover-bg-color: #E2EBFA;\n",
              "      --hover-fill-color: #174EA6;\n",
              "      --disabled-fill-color: #AAA;\n",
              "      --disabled-bg-color: #DDD;\n",
              "  }\n",
              "\n",
              "  [theme=dark] .colab-df-quickchart {\n",
              "      --bg-color: #3B4455;\n",
              "      --fill-color: #D2E3FC;\n",
              "      --hover-bg-color: #434B5C;\n",
              "      --hover-fill-color: #FFFFFF;\n",
              "      --disabled-bg-color: #3B4455;\n",
              "      --disabled-fill-color: #666;\n",
              "  }\n",
              "\n",
              "  .colab-df-quickchart {\n",
              "    background-color: var(--bg-color);\n",
              "    border: none;\n",
              "    border-radius: 50%;\n",
              "    cursor: pointer;\n",
              "    display: none;\n",
              "    fill: var(--fill-color);\n",
              "    height: 32px;\n",
              "    padding: 0;\n",
              "    width: 32px;\n",
              "  }\n",
              "\n",
              "  .colab-df-quickchart:hover {\n",
              "    background-color: var(--hover-bg-color);\n",
              "    box-shadow: 0 1px 2px rgba(60, 64, 67, 0.3), 0 1px 3px 1px rgba(60, 64, 67, 0.15);\n",
              "    fill: var(--button-hover-fill-color);\n",
              "  }\n",
              "\n",
              "  .colab-df-quickchart-complete:disabled,\n",
              "  .colab-df-quickchart-complete:disabled:hover {\n",
              "    background-color: var(--disabled-bg-color);\n",
              "    fill: var(--disabled-fill-color);\n",
              "    box-shadow: none;\n",
              "  }\n",
              "\n",
              "  .colab-df-spinner {\n",
              "    border: 2px solid var(--fill-color);\n",
              "    border-color: transparent;\n",
              "    border-bottom-color: var(--fill-color);\n",
              "    animation:\n",
              "      spin 1s steps(1) infinite;\n",
              "  }\n",
              "\n",
              "  @keyframes spin {\n",
              "    0% {\n",
              "      border-color: transparent;\n",
              "      border-bottom-color: var(--fill-color);\n",
              "      border-left-color: var(--fill-color);\n",
              "    }\n",
              "    20% {\n",
              "      border-color: transparent;\n",
              "      border-left-color: var(--fill-color);\n",
              "      border-top-color: var(--fill-color);\n",
              "    }\n",
              "    30% {\n",
              "      border-color: transparent;\n",
              "      border-left-color: var(--fill-color);\n",
              "      border-top-color: var(--fill-color);\n",
              "      border-right-color: var(--fill-color);\n",
              "    }\n",
              "    40% {\n",
              "      border-color: transparent;\n",
              "      border-right-color: var(--fill-color);\n",
              "      border-top-color: var(--fill-color);\n",
              "    }\n",
              "    60% {\n",
              "      border-color: transparent;\n",
              "      border-right-color: var(--fill-color);\n",
              "    }\n",
              "    80% {\n",
              "      border-color: transparent;\n",
              "      border-right-color: var(--fill-color);\n",
              "      border-bottom-color: var(--fill-color);\n",
              "    }\n",
              "    90% {\n",
              "      border-color: transparent;\n",
              "      border-bottom-color: var(--fill-color);\n",
              "    }\n",
              "  }\n",
              "</style>\n",
              "\n",
              "  <script>\n",
              "    async function quickchart(key) {\n",
              "      const quickchartButtonEl =\n",
              "        document.querySelector('#' + key + ' button');\n",
              "      quickchartButtonEl.disabled = true;  // To prevent multiple clicks.\n",
              "      quickchartButtonEl.classList.add('colab-df-spinner');\n",
              "      try {\n",
              "        const charts = await google.colab.kernel.invokeFunction(\n",
              "            'suggestCharts', [key], {});\n",
              "      } catch (error) {\n",
              "        console.error('Error during call to suggestCharts:', error);\n",
              "      }\n",
              "      quickchartButtonEl.classList.remove('colab-df-spinner');\n",
              "      quickchartButtonEl.classList.add('colab-df-quickchart-complete');\n",
              "    }\n",
              "    (() => {\n",
              "      let quickchartButtonEl =\n",
              "        document.querySelector('#df-44b5b3e9-2fe2-4694-bcd2-47c0c9d9565d button');\n",
              "      quickchartButtonEl.style.display =\n",
              "        google.colab.kernel.accessAllowed ? 'block' : 'none';\n",
              "    })();\n",
              "  </script>\n",
              "</div>\n",
              "\n",
              "    </div>\n",
              "  </div>\n"
            ],
            "application/vnd.google.colaboratory.intrinsic+json": {
              "type": "dataframe",
              "variable_name": "df"
            }
          },
          "metadata": {},
          "execution_count": 2
        }
      ]
    },
    {
      "cell_type": "code",
      "source": [
        "activities_map = {\n",
        "     \"0\": \"other\",\n",
        "     \"1\": \"lying\",\n",
        "     \"2\": \"sitting\",\n",
        "     \"3\": \"standing\",\n",
        "     \"4\": \"walking\",\n",
        "     \"5\": \"running\",\n",
        "     \"6\": \"cycling\",\n",
        "     \"7\": \"Nordic walking\",\n",
        "     \"9\": \"watching TV\",\n",
        "    \"10\": \"computer work\",\n",
        "    \"11\": \"car driving\",\n",
        "    \"12\": \"ascending stairs\",\n",
        "    \"13\": \"descending stairs\",\n",
        "    \"16\": \"vacuum cleaning\",\n",
        "    \"17\": \"ironing\",\n",
        "    \"18\": \"folding laundry\",\n",
        "    \"19\": \"house cleaning\",\n",
        "    \"20\": \"playing soccer\",\n",
        "    \"24\": \"rope jumping\"\n",
        "}"
      ],
      "metadata": {
        "id": "-y2i35cs9r3Z"
      },
      "execution_count": 3,
      "outputs": []
    },
    {
      "cell_type": "code",
      "source": [
        "print(\"Starting\")\n",
        "\n",
        "# Define the column names for the accelerometer and gyroscope data\n",
        "column_names = ['timestamp', 'x', 'y', 'z', 'label']\n",
        "\n",
        "# Initialize an empty DataFrame\n",
        "df = pd.DataFrame(columns=column_names)\n",
        "\n",
        "# List to hold data frames for concatenation\n",
        "data_frames = []\n",
        "\n",
        "# Load CSV files from 'Activity recognition exp/' directory\n",
        "for file in glob.glob(os.path.join('Activity recognition exp/', '*.csv')):\n",
        "    # Extract the subject/device info from the file name\n",
        "    file_name = os.path.basename(file).split('.')[0]\n",
        "    print(f\"Processing: {file_name}\")\n",
        "\n",
        "    # Read the CSV file\n",
        "    dft = pd.read_csv(file, sep=\",\")\n",
        "\n",
        "    # Add a column to identify the device/subject based on the file name\n",
        "    dft['device'] = file_name\n",
        "\n",
        "    # Append the DataFrame to the list\n",
        "    data_frames.append(dft)\n",
        "\n",
        "# Concatenate all the data frames into one DataFrame\n",
        "df = pd.concat(data_frames, ignore_index=True)\n",
        "\n",
        "print(\"Finished\")\n",
        "print(df.head())  # Display the first few rows of the concatenated DataFrame"
      ],
      "metadata": {
        "colab": {
          "base_uri": "https://localhost:8080/"
        },
        "id": "QqODw4_r9uzb",
        "outputId": "17c7b568-036e-4ab6-9163-81279480d2ff"
      },
      "execution_count": null,
      "outputs": [
        {
          "output_type": "stream",
          "name": "stdout",
          "text": [
            "Starting\n",
            "Processing: Watch_accelerometer\n",
            "Processing: Phones_gyroscope\n",
            "Processing: Watch_gyroscope\n",
            "Processing: Phones_accelerometer\n"
          ]
        }
      ]
    },
    {
      "cell_type": "code",
      "source": [
        "# Define the directory where the unzipped files are located\n",
        "directory = 'Activity recognition exp/'\n",
        "\n",
        "# Define column names for the accelerometer and gyroscope data\n",
        "column_names = ['timestamp', 'x', 'y', 'z', 'label']\n",
        "df = pd.DataFrame(columns=column_names)\n",
        "\n",
        "# Iterate through each relevant CSV file in the 'Activity recognition exp/' directory\n",
        "for file in glob.glob(os.path.join(directory, '*.csv')):\n",
        "    file_name = os.path.basename(file).split('.')[0]  # Get the base name without extension\n",
        "    print(f\"Processing: {file_name}\")\n",
        "\n",
        "    # Read the CSV file\n",
        "    dft = pd.read_csv(file, sep=\",\")\n",
        "\n",
        "    # Drop columns that are completely empty (all-NA)\n",
        "    dft = dft.dropna(axis=1, how='all')\n",
        "\n",
        "    # Add a column to track the file or device source\n",
        "    dft['source'] = file_name\n",
        "\n",
        "    # Append the data to the main DataFrame\n",
        "    df = pd.concat([df, dft], ignore_index=True)\n",
        "\n",
        "# Display the combined DataFrame\n",
        "print(df.head())"
      ],
      "metadata": {
        "id": "IcDYVhqt9xma"
      },
      "execution_count": null,
      "outputs": []
    },
    {
      "cell_type": "code",
      "source": [
        "# Check if the columns 'index' and 'Unnamed: 0' exist before attempting to drop them\n",
        "columns_to_drop = ['index', 'Unnamed: 0']\n",
        "existing_columns_to_drop = [col for col in columns_to_drop if col in df.columns]\n",
        "\n",
        "if existing_columns_to_drop:\n",
        "    df.drop(labels=existing_columns_to_drop, axis='columns', inplace=True)\n",
        "\n",
        "# Optionally convert 'timestamp' to datetime if needed\n",
        "# df['timestamp'] = pd.to_datetime(df['timestamp'])\n",
        "\n",
        "df.head()"
      ],
      "metadata": {
        "id": "vkrjSc4P965k"
      },
      "execution_count": null,
      "outputs": []
    },
    {
      "cell_type": "code",
      "source": [
        "# Summary statistics\n",
        "print(df.describe())\n",
        "\n",
        "# Check for missing values\n",
        "print(df.isnull().sum())\n",
        "\n",
        "# Handle missing values (if any)\n",
        "df = df.dropna()"
      ],
      "metadata": {
        "id": "O02AmE9z-Bdo"
      },
      "execution_count": null,
      "outputs": []
    },
    {
      "cell_type": "code",
      "source": [
        "# Check column names in the DataFrame\n",
        "print(df.columns)"
      ],
      "metadata": {
        "id": "OLHtntqV-FoR"
      },
      "execution_count": null,
      "outputs": []
    },
    {
      "cell_type": "code",
      "source": [
        "# Replace 'label' with the actual column name if it is different\n",
        "correct_label_column = 'label'  # Change this to the correct column name if different\n",
        "\n",
        "# Visualize the distribution of the labels\n",
        "plt.figure(figsize=(12, 6))\n",
        "sns.countplot(x=correct_label_column, data=df)\n",
        "plt.title('Distribution of Activity Labels')\n",
        "plt.xlabel('Activity Label')\n",
        "plt.ylabel('Count')\n",
        "plt.show()"
      ],
      "metadata": {
        "id": "PYWciBiO-IMG"
      },
      "execution_count": null,
      "outputs": []
    }
  ]
}